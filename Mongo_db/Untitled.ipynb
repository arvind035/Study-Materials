{
 "cells": [
  {
   "cell_type": "code",
   "execution_count": 1,
   "metadata": {},
   "outputs": [],
   "source": [
    "import pymongo"
   ]
  },
  {
   "cell_type": "code",
   "execution_count": 2,
   "metadata": {},
   "outputs": [],
   "source": [
    "client = pymongo.MongoClient('mongodb://127.0.0.1:27017/')"
   ]
  },
  {
   "cell_type": "code",
   "execution_count": 6,
   "metadata": {},
   "outputs": [],
   "source": [
    "database = client['sample1']\n",
    "collection = database.example\n",
    "record = { \"Name\":\"xyz\" ,\"Dep\":\"CSIT\",\"Field\":\"Web Development\"}\n",
    "# collection.insert_one(record)"
   ]
  },
  {
   "cell_type": "code",
   "execution_count": 7,
   "metadata": {},
   "outputs": [
    {
     "data": {
      "text/plain": [
       "{'_id': ObjectId('601fc898960eb2ebd2c8ea34'),\n",
       " 'Name': 'UjjWal',\n",
       " 'Dep': 'CSIT',\n",
       " 'Field': 'Web Development'}"
      ]
     },
     "execution_count": 7,
     "metadata": {},
     "output_type": "execute_result"
    }
   ],
   "source": [
    "collection.find_one()"
   ]
  },
  {
   "cell_type": "code",
   "execution_count": 12,
   "metadata": {},
   "outputs": [
    {
     "data": {
      "text/plain": [
       "<pymongo.cursor.Cursor at 0x1a6acdf44a8>"
      ]
     },
     "execution_count": 12,
     "metadata": {},
     "output_type": "execute_result"
    }
   ],
   "source": [
    "collection.find()"
   ]
  },
  {
   "cell_type": "code",
   "execution_count": 15,
   "metadata": {},
   "outputs": [
    {
     "name": "stdout",
     "output_type": "stream",
     "text": [
      "{'_id': ObjectId('601fc898960eb2ebd2c8ea34'), 'Name': 'UjjWal', 'Dep': 'CSIT', 'Field': 'Web Development'}\n",
      "{'_id': ObjectId('601fc9fd17a91c0b272409e2'), 'Name': 'Amit', 'Dep': 'CSIT', 'Field': 'Ethical Hacking'}\n",
      "{'_id': ObjectId('601fc9fd17a91c0b272409e3'), 'Name': 'Ajeet', 'Dep': 'CSIT', 'Field': 'Web Development'}\n",
      "{'_id': ObjectId('601fc9fd17a91c0b272409e4'), 'Name': 'Sateyandra', 'Dep': 'CSIT', 'Field': 'Data Scientist'}\n",
      "{'_id': ObjectId('601fca9b81175f4c68155e18'), 'Name': 'Amit', 'Dep': 'CSIT', 'Field': 'Ethical Hacking'}\n",
      "{'_id': ObjectId('601fca9b81175f4c68155e19'), 'Name': 'Ajeet', 'Dep': 'CSIT', 'Field': 'Web Development'}\n",
      "{'_id': ObjectId('601fca9b81175f4c68155e1a'), 'Name': 'Sateyandra', 'Dep': 'CSIT', 'Field': 'Data Scientist'}\n"
     ]
    }
   ],
   "source": [
    "for record in collection.find():\n",
    "    print(record)"
   ]
  },
  {
   "cell_type": "code",
   "execution_count": 19,
   "metadata": {},
   "outputs": [
    {
     "name": "stdout",
     "output_type": "stream",
     "text": [
      "{'_id': ObjectId('601fc9fd17a91c0b272409e3'), 'Name': 'Ajeet', 'Dep': 'CSIT', 'Field': 'Web Development'}\n",
      "{'_id': ObjectId('601fca9b81175f4c68155e19'), 'Name': 'Ajeet', 'Dep': 'CSIT', 'Field': 'Web Development'}\n"
     ]
    }
   ],
   "source": [
    "for record in collection.find({'Name':'Ajeet'}):\n",
    "    print(record)"
   ]
  },
  {
   "cell_type": "code",
   "execution_count": null,
   "metadata": {},
   "outputs": [],
   "source": []
  }
 ],
 "metadata": {
  "kernelspec": {
   "display_name": "Python 3",
   "language": "python",
   "name": "python3"
  },
  "language_info": {
   "codemirror_mode": {
    "name": "ipython",
    "version": 3
   },
   "file_extension": ".py",
   "mimetype": "text/x-python",
   "name": "python",
   "nbconvert_exporter": "python",
   "pygments_lexer": "ipython3",
   "version": "3.7.0"
  }
 },
 "nbformat": 4,
 "nbformat_minor": 4
}
