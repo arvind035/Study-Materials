{
 "cells": [
  {
   "cell_type": "code",
   "execution_count": 1,
   "metadata": {},
   "outputs": [
    {
     "name": "stdout",
     "output_type": "stream",
     "text": [
      "Hello Jupyter Notebbok\n",
      "Python is so easy language\n"
     ]
    }
   ],
   "source": [
    "print(\"Hello Jupyter Notebbok\")\n",
    "print(\"Python is so easy language\")"
   ]
  },
  {
   "cell_type": "code",
   "execution_count": 2,
   "metadata": {},
   "outputs": [
    {
     "name": "stdout",
     "output_type": "stream",
     "text": [
      "Here we use python mainly to implement pandas\n"
     ]
    }
   ],
   "source": [
    "print(\"Here we use python mainly to implement pandas\")"
   ]
  },
  {
   "cell_type": "code",
   "execution_count": 7,
   "metadata": {},
   "outputs": [
    {
     "name": "stdout",
     "output_type": "stream",
     "text": [
      "Enter first number for add\n",
      "6\n",
      "Enter second number for add\n",
      "5\n",
      "Sum of these two number is :  11\n",
      "Substraction of these two number is :  1\n",
      "Multiplication of these two number is :  30\n",
      "Divison of these two number is :  1.2\n",
      "Modulas of these two number is :  1\n"
     ]
    }
   ],
   "source": [
    "print(\"Enter first number for add\")\n",
    "a=int(input())\n",
    "print(\"Enter second number for add\")\n",
    "b=int(input())\n",
    "c=a+b\n",
    "d=a-b\n",
    "e=a*b\n",
    "f=a/b\n",
    "g=a%b\n",
    "print(\"Sum of these two number is : \",c)\n",
    "print(\"Substraction of these two number is : \",d)\n",
    "print(\"Multiplication of these two number is : \",e)\n",
    "print(\"Divison of these two number is : \",f)\n",
    "print(\"Modulas of these two number is : \",g)"
   ]
  },
  {
   "cell_type": "code",
   "execution_count": null,
   "metadata": {},
   "outputs": [],
   "source": []
  }
 ],
 "metadata": {
  "kernelspec": {
   "display_name": "Python 3",
   "language": "python",
   "name": "python3"
  },
  "language_info": {
   "codemirror_mode": {
    "name": "ipython",
    "version": 3
   },
   "file_extension": ".py",
   "mimetype": "text/x-python",
   "name": "python",
   "nbconvert_exporter": "python",
   "pygments_lexer": "ipython3",
   "version": "3.7.0"
  }
 },
 "nbformat": 4,
 "nbformat_minor": 4
}
